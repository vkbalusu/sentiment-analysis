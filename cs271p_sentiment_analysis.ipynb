{
  "nbformat": 4,
  "nbformat_minor": 0,
  "metadata": {
    "colab": {
      "name": "cs271p sentiment analysis.ipynb",
      "provenance": [],
      "collapsed_sections": []
    },
    "kernelspec": {
      "display_name": "Python 3",
      "name": "python3"
    },
    "language_info": {
      "name": "python"
    }
  },
  "cells": [
    {
      "cell_type": "markdown",
      "metadata": {
        "id": "sgfPIikCgjDB"
      },
      "source": [
        "# **0. Loading libraries and data**"
      ]
    },
    {
      "cell_type": "markdown",
      "metadata": {
        "id": "gOvFtFLngwE5"
      },
      "source": [
        "### **0.1 Import necessary libraries**"
      ]
    },
    {
      "cell_type": "code",
      "metadata": {
        "id": "G7OU5XJfnIIU",
        "colab": {
          "base_uri": "https://localhost:8080/"
        },
        "outputId": "1c773675-778f-44b3-9e68-c73f180352dc"
      },
      "source": [
        "import re as re\n",
        "import pandas as pd\n",
        "pd.options.mode.chained_assignment = None  # default='warn'\n",
        "import numpy as np\n",
        "import string\n",
        "import nltk\n",
        "import seaborn as sns\n",
        "%matplotlib inline\n",
        "from sklearn.model_selection import train_test_split, cross_val_score\n",
        "from sklearn.feature_extraction.text import CountVectorizer\n",
        "from sklearn.naive_bayes import MultinomialNB\n",
        "from sklearn.metrics import accuracy_score, precision_score, recall_score, roc_auc_score, roc_curve, confusion_matrix, f1_score\n",
        "from sklearn.linear_model import LogisticRegression\n",
        "from xgboost import XGBClassifier\n",
        "from nltk.stem import WordNetLemmatizer\n",
        "from keras.preprocessing.text import Tokenizer\n",
        "from keras.preprocessing.sequence import pad_sequences\n",
        "from keras.layers import Dense , Input , LSTM , Embedding, Dropout , Activation, GRU, Flatten\n",
        "from keras.layers import Bidirectional, GlobalMaxPool1D\n",
        "from keras.models import Model, Sequential\n",
        "from keras.layers import Convolution1D\n",
        "from keras import initializers, regularizers, constraints, optimizers, layers\n",
        "import matplotlib.pyplot as plt\n",
        "nltk.download('stopwords')\n",
        "nltk.download('wordnet')\n",
        "import warnings\n",
        "warnings.filterwarnings(\"ignore\")\n",
        "import time\n",
        "\n",
        "\n"
      ],
      "execution_count": 1,
      "outputs": [
        {
          "output_type": "stream",
          "name": "stdout",
          "text": [
            "[nltk_data] Downloading package stopwords to /root/nltk_data...\n",
            "[nltk_data]   Package stopwords is already up-to-date!\n",
            "[nltk_data] Downloading package wordnet to /root/nltk_data...\n",
            "[nltk_data]   Package wordnet is already up-to-date!\n"
          ]
        }
      ]
    },
    {
      "cell_type": "markdown",
      "metadata": {
        "id": "X17WPZC5g7Ms"
      },
      "source": [
        "### **0.2 Read data from CSV file**"
      ]
    },
    {
      "cell_type": "code",
      "metadata": {
        "colab": {
          "base_uri": "https://localhost:8080/"
        },
        "id": "X8yVpshIUBIu",
        "outputId": "a2e558cf-d3e3-48f0-9e9f-2739011646cf"
      },
      "source": [
        "from google.colab import drive\n",
        "drive.flush_and_unmount()\n",
        "drive.mount('/content/drive')\n",
        "data = pd.read_csv(\"/content/drive/MyDrive/Reviews.csv\")"
      ],
      "execution_count": 2,
      "outputs": [
        {
          "output_type": "stream",
          "name": "stdout",
          "text": [
            "Mounted at /content/drive\n"
          ]
        }
      ]
    },
    {
      "cell_type": "markdown",
      "metadata": {
        "id": "1kuRRx4qXzb8"
      },
      "source": [
        "### Data set uploaded to google drive\n",
        "Link: https://drive.google.com/file/d/1RbK8ksKgzloL6utnDkGkDcl09ex2FxGH/view?usp=sharing"
      ]
    },
    {
      "cell_type": "markdown",
      "metadata": {
        "id": "Ee5FnviyDa1P"
      },
      "source": [
        "### **0.3 Data format**"
      ]
    },
    {
      "cell_type": "code",
      "metadata": {
        "id": "NfZrx72gXoCn",
        "colab": {
          "base_uri": "https://localhost:8080/"
        },
        "outputId": "6d882e84-d588-4bdc-cffe-7a18b30b0a8d"
      },
      "source": [
        "print(data.iloc[0])"
      ],
      "execution_count": 3,
      "outputs": [
        {
          "output_type": "stream",
          "name": "stdout",
          "text": [
            "Id                                                                        1\n",
            "ProductId                                                        B001E4KFG0\n",
            "UserId                                                       A3SGXH7AUHU8GW\n",
            "ProfileName                                                      delmartian\n",
            "HelpfulnessNumerator                                                      1\n",
            "HelpfulnessDenominator                                                    1\n",
            "Score                                                                     5\n",
            "Time                                                             1303862400\n",
            "Summary                                               Good Quality Dog Food\n",
            "Text                      I have bought several of the Vitality canned d...\n",
            "Name: 0, dtype: object\n"
          ]
        }
      ]
    },
    {
      "cell_type": "markdown",
      "metadata": {
        "id": "YlUqjQ_UDfc-"
      },
      "source": [
        "### **0.4 Data set statistics**"
      ]
    },
    {
      "cell_type": "code",
      "metadata": {
        "id": "84wkwrRF-m5J",
        "colab": {
          "base_uri": "https://localhost:8080/"
        },
        "outputId": "7ae4bb0f-b8fc-4bf8-f23c-4d3ae395dbd0"
      },
      "source": [
        "print(\"Number of reviews :\", data.shape[0])\n",
        "print(\"Number of products :\", data.ProductId.nunique())\n",
        "print(\"Number of users :\", data.UserId.nunique())"
      ],
      "execution_count": 4,
      "outputs": [
        {
          "output_type": "stream",
          "name": "stdout",
          "text": [
            "Number of reviews : 568454\n",
            "Number of products : 74258\n",
            "Number of users : 256059\n"
          ]
        }
      ]
    },
    {
      "cell_type": "code",
      "metadata": {
        "colab": {
          "base_uri": "https://localhost:8080/",
          "height": 383
        },
        "id": "WRDRg92HZfXR",
        "outputId": "b8dbc408-0784-42c3-8369-ea4dcf5f762e"
      },
      "source": [
        "dist = data.groupby([\"Score\"]).size()\n",
        "fig, ax = plt.subplots(figsize=(8,5), dpi=80)\n",
        "ax.set_title('Sentiment Distribution')\n",
        "sns.barplot(dist.keys(), dist.values);"
      ],
      "execution_count": 5,
      "outputs": [
        {
          "output_type": "display_data",
          "data": {
            "image/png": "[encoded data removed]",
            "text/plain": [
              "<Figure size 640x400 with 1 Axes>"
            ]
          },
          "metadata": {
            "needs_background": "light"
          }
        }
      ]
    },
    {
      "cell_type": "markdown",
      "metadata": {
        "id": "Ce5lADZdcobq"
      },
      "source": [
        "# **1. Pre-processing**"
      ]
    },
    {
      "cell_type": "markdown",
      "metadata": {
        "id": "Nn1VupMyDlwh"
      },
      "source": [
        "### **1.1 Adding sentiment column**"
      ]
    },
    {
      "cell_type": "code",
      "metadata": {
        "id": "j3HeP1zBTbhn",
        "colab": {
          "base_uri": "https://localhost:8080/",
          "height": 179
        },
        "outputId": "37ec7197-00f2-4c3c-b23e-96dccd2c72f0"
      },
      "source": [
        "data['Class'] = np.where(data['Score'] >= 3, 'Positive', 'Negative')\n",
        "def partition(x):\n",
        "    if x < 3:\n",
        "        return 0\n",
        "    return 1\n",
        "\n",
        "score_upd = data['Score']\n",
        "t = score_upd.map(partition)\n",
        "data['Sentiment']=t\n",
        "data.drop(data[data.Score == 3].index, inplace=True)\n",
        "data.head(2)"
      ],
      "execution_count": 6,
      "outputs": [
        {
          "output_type": "execute_result",
          "data": {
            "text/html": [
              "<div>\n",
              "<style scoped>\n",
              "    .dataframe tbody tr th:only-of-type {\n",
              "        vertical-align: middle;\n",
              "    }\n",
              "\n",
              "    .dataframe tbody tr th {\n",
              "        vertical-align: top;\n",
              "    }\n",
              "\n",
              "    .dataframe thead th {\n",
              "        text-align: right;\n",
              "    }\n",
              "</style>\n",
              "<table border=\"1\" class=\"dataframe\">\n",
              "  <thead>\n",
              "    <tr style=\"text-align: right;\">\n",
              "      <th></th>\n",
              "      <th>Id</th>\n",
              "      <th>ProductId</th>\n",
              "      <th>UserId</th>\n",
              "      <th>ProfileName</th>\n",
              "      <th>HelpfulnessNumerator</th>\n",
              "      <th>HelpfulnessDenominator</th>\n",
              "      <th>Score</th>\n",
              "      <th>Time</th>\n",
              "      <th>Summary</th>\n",
              "      <th>Text</th>\n",
              "      <th>Class</th>\n",
              "      <th>Sentiment</th>\n",
              "    </tr>\n",
              "  </thead>\n",
              "  <tbody>\n",
              "    <tr>\n",
              "      <th>0</th>\n",
              "      <td>1</td>\n",
              "      <td>B001E4KFG0</td>\n",
              "      <td>A3SGXH7AUHU8GW</td>\n",
              "      <td>delmartian</td>\n",
              "      <td>1</td>\n",
              "      <td>1</td>\n",
              "      <td>5</td>\n",
              "      <td>1303862400</td>\n",
              "      <td>Good Quality Dog Food</td>\n",
              "      <td>I have bought several of the Vitality canned d...</td>\n",
              "      <td>Positive</td>\n",
              "      <td>1</td>\n",
              "    </tr>\n",
              "    <tr>\n",
              "      <th>1</th>\n",
              "      <td>2</td>\n",
              "      <td>B00813GRG4</td>\n",
              "      <td>A1D87F6ZCVE5NK</td>\n",
              "      <td>dll pa</td>\n",
              "      <td>0</td>\n",
              "      <td>0</td>\n",
              "      <td>1</td>\n",
              "      <td>1346976000</td>\n",
              "      <td>Not as Advertised</td>\n",
              "      <td>Product arrived labeled as Jumbo Salted Peanut...</td>\n",
              "      <td>Negative</td>\n",
              "      <td>0</td>\n",
              "    </tr>\n",
              "  </tbody>\n",
              "</table>\n",
              "</div>"
            ],
            "text/plain": [
              "   Id   ProductId  ...     Class Sentiment\n",
              "0   1  B001E4KFG0  ...  Positive         1\n",
              "1   2  B00813GRG4  ...  Negative         0\n",
              "\n",
              "[2 rows x 12 columns]"
            ]
          },
          "metadata": {},
          "execution_count": 6
        }
      ]
    },
    {
      "cell_type": "markdown",
      "metadata": {
        "id": "XHtSPDVwDsLt"
      },
      "source": [
        "### **1.2 Duplicates**"
      ]
    },
    {
      "cell_type": "code",
      "metadata": {
        "id": "WD_OfaBrJXz1",
        "colab": {
          "base_uri": "https://localhost:8080/",
          "height": 204
        },
        "outputId": "628b45e5-460a-417a-f3a7-13b11530591b"
      },
      "source": [
        "data[['UserId', 'Time', 'Summary', 'Text']].loc[data['UserId'] == 'AR5J8UI46CURR']"
      ],
      "execution_count": 7,
      "outputs": [
        {
          "output_type": "execute_result",
          "data": {
            "text/html": [
              "<div>\n",
              "<style scoped>\n",
              "    .dataframe tbody tr th:only-of-type {\n",
              "        vertical-align: middle;\n",
              "    }\n",
              "\n",
              "    .dataframe tbody tr th {\n",
              "        vertical-align: top;\n",
              "    }\n",
              "\n",
              "    .dataframe thead th {\n",
              "        text-align: right;\n",
              "    }\n",
              "</style>\n",
              "<table border=\"1\" class=\"dataframe\">\n",
              "  <thead>\n",
              "    <tr style=\"text-align: right;\">\n",
              "      <th></th>\n",
              "      <th>UserId</th>\n",
              "      <th>Time</th>\n",
              "      <th>Summary</th>\n",
              "      <th>Text</th>\n",
              "    </tr>\n",
              "  </thead>\n",
              "  <tbody>\n",
              "    <tr>\n",
              "      <th>73790</th>\n",
              "      <td>AR5J8UI46CURR</td>\n",
              "      <td>1199577600</td>\n",
              "      <td>LOACKER QUADRATINI VANILLA WAFERS</td>\n",
              "      <td>DELICIOUS WAFERS. I FIND THAT EUROPEAN WAFERS ...</td>\n",
              "    </tr>\n",
              "    <tr>\n",
              "      <th>78444</th>\n",
              "      <td>AR5J8UI46CURR</td>\n",
              "      <td>1199577600</td>\n",
              "      <td>LOACKER QUADRATINI VANILLA WAFERS</td>\n",
              "      <td>DELICIOUS WAFERS. I FIND THAT EUROPEAN WAFERS ...</td>\n",
              "    </tr>\n",
              "    <tr>\n",
              "      <th>138276</th>\n",
              "      <td>AR5J8UI46CURR</td>\n",
              "      <td>1199577600</td>\n",
              "      <td>LOACKER QUADRATINI VANILLA WAFERS</td>\n",
              "      <td>DELICIOUS WAFERS. I FIND THAT EUROPEAN WAFERS ...</td>\n",
              "    </tr>\n",
              "    <tr>\n",
              "      <th>138316</th>\n",
              "      <td>AR5J8UI46CURR</td>\n",
              "      <td>1199577600</td>\n",
              "      <td>LOACKER QUADRATINI VANILLA WAFERS</td>\n",
              "      <td>DELICIOUS WAFERS. I FIND THAT EUROPEAN WAFERS ...</td>\n",
              "    </tr>\n",
              "    <tr>\n",
              "      <th>155048</th>\n",
              "      <td>AR5J8UI46CURR</td>\n",
              "      <td>1199577600</td>\n",
              "      <td>LOACKER QUADRATINI VANILLA WAFERS</td>\n",
              "      <td>DELICIOUS WAFERS. I FIND THAT EUROPEAN WAFERS ...</td>\n",
              "    </tr>\n",
              "  </tbody>\n",
              "</table>\n",
              "</div>"
            ],
            "text/plain": [
              "               UserId  ...                                               Text\n",
              "73790   AR5J8UI46CURR  ...  DELICIOUS WAFERS. I FIND THAT EUROPEAN WAFERS ...\n",
              "78444   AR5J8UI46CURR  ...  DELICIOUS WAFERS. I FIND THAT EUROPEAN WAFERS ...\n",
              "138276  AR5J8UI46CURR  ...  DELICIOUS WAFERS. I FIND THAT EUROPEAN WAFERS ...\n",
              "138316  AR5J8UI46CURR  ...  DELICIOUS WAFERS. I FIND THAT EUROPEAN WAFERS ...\n",
              "155048  AR5J8UI46CURR  ...  DELICIOUS WAFERS. I FIND THAT EUROPEAN WAFERS ...\n",
              "\n",
              "[5 rows x 4 columns]"
            ]
          },
          "metadata": {},
          "execution_count": 7
        }
      ]
    },
    {
      "cell_type": "code",
      "metadata": {
        "id": "geQg4u2WS28q",
        "colab": {
          "base_uri": "https://localhost:8080/",
          "height": 80
        },
        "outputId": "cec5313e-ef06-4f3e-fb0b-890f37ef19e4"
      },
      "source": [
        "filtered_data = data.drop_duplicates(subset = {\"UserId\",\"ProfileName\",\"Time\",\"Text\"}, keep='first', inplace=False)\n",
        "filtered_data[['UserId', 'Time', 'Summary', 'Text']].loc[filtered_data['UserId'] == 'AR5J8UI46CURR']\n"
      ],
      "execution_count": 8,
      "outputs": [
        {
          "output_type": "execute_result",
          "data": {
            "text/html": [
              "<div>\n",
              "<style scoped>\n",
              "    .dataframe tbody tr th:only-of-type {\n",
              "        vertical-align: middle;\n",
              "    }\n",
              "\n",
              "    .dataframe tbody tr th {\n",
              "        vertical-align: top;\n",
              "    }\n",
              "\n",
              "    .dataframe thead th {\n",
              "        text-align: right;\n",
              "    }\n",
              "</style>\n",
              "<table border=\"1\" class=\"dataframe\">\n",
              "  <thead>\n",
              "    <tr style=\"text-align: right;\">\n",
              "      <th></th>\n",
              "      <th>UserId</th>\n",
              "      <th>Time</th>\n",
              "      <th>Summary</th>\n",
              "      <th>Text</th>\n",
              "    </tr>\n",
              "  </thead>\n",
              "  <tbody>\n",
              "    <tr>\n",
              "      <th>73790</th>\n",
              "      <td>AR5J8UI46CURR</td>\n",
              "      <td>1199577600</td>\n",
              "      <td>LOACKER QUADRATINI VANILLA WAFERS</td>\n",
              "      <td>DELICIOUS WAFERS. I FIND THAT EUROPEAN WAFERS ...</td>\n",
              "    </tr>\n",
              "  </tbody>\n",
              "</table>\n",
              "</div>"
            ],
            "text/plain": [
              "              UserId  ...                                               Text\n",
              "73790  AR5J8UI46CURR  ...  DELICIOUS WAFERS. I FIND THAT EUROPEAN WAFERS ...\n",
              "\n",
              "[1 rows x 4 columns]"
            ]
          },
          "metadata": {},
          "execution_count": 8
        }
      ]
    },
    {
      "cell_type": "code",
      "metadata": {
        "id": "F2mGMyASXxnM",
        "colab": {
          "base_uri": "https://localhost:8080/"
        },
        "outputId": "ab951418-97ea-4345-b305-442c8f67974c"
      },
      "source": [
        "print(\"Percentage of data fltered out: \", 100- (filtered_data['Id'].size * 1.0) / (data['Id'].size  *1.0) * 100)"
      ],
      "execution_count": 9,
      "outputs": [
        {
          "output_type": "stream",
          "name": "stdout",
          "text": [
            "Percentage of data fltered out:  30.741098563370315\n"
          ]
        }
      ]
    },
    {
      "cell_type": "markdown",
      "metadata": {
        "id": "JY715ASADwE8"
      },
      "source": [
        "### **1.3 Case convertion**"
      ]
    },
    {
      "cell_type": "code",
      "metadata": {
        "id": "CLsnjiqNPxim",
        "colab": {
          "base_uri": "https://localhost:8080/"
        },
        "outputId": "23892641-cf67-43e6-ae13-efbd2b78a08e"
      },
      "source": [
        "print(\"Before converting to lower case: \")\n",
        "print(filtered_data['Text'].loc[filtered_data['UserId'] == 'AR5J8UI46CURR'].values)\n",
        "\n",
        "print()\n",
        "filtered_data['Text'] = filtered_data['Text'].str.lower()\n",
        "print(\"After converting to lower case: \")\n",
        "print(filtered_data['Text'].loc[filtered_data['UserId'] == 'AR5J8UI46CURR'].values)"
      ],
      "execution_count": 10,
      "outputs": [
        {
          "output_type": "stream",
          "name": "stdout",
          "text": [
            "Before converting to lower case: \n",
            "['DELICIOUS WAFERS. I FIND THAT EUROPEAN WAFERS ARE LESS SWEET ( LESS SUGAR AND CARBOHYDRATES) BUT VERY DELECTABLE.']\n",
            "\n",
            "After converting to lower case: \n",
            "['delicious wafers. i find that european wafers are less sweet ( less sugar and carbohydrates) but very delectable.']\n"
          ]
        }
      ]
    },
    {
      "cell_type": "markdown",
      "metadata": {
        "id": "Yhmwbt0uD0JG"
      },
      "source": [
        "### **1.4 HTML tags**"
      ]
    },
    {
      "cell_type": "code",
      "metadata": {
        "id": "-iMtJsgJqHl6",
        "colab": {
          "base_uri": "https://localhost:8080/"
        },
        "outputId": "bde952e7-c27b-4191-c5d7-b46f4fea262b"
      },
      "source": [
        "print(\"Before removing HTML tags: \")\n",
        "print(filtered_data['Text'].loc[filtered_data['UserId'] == 'A3FONPR03H3PJS'].values) \n",
        "print()\n",
        "pd.options.mode.chained_assignment = None\n",
        "CLEANR = re.compile('<.*?>|&([a-z0-9]+|#[0-9]{1,6}|#x[0-9a-f]{1,6})')\n",
        "\n",
        "def remove_tags(string):\n",
        "    result = re.sub(CLEANR,'',string)\n",
        "    return result\n",
        "\n",
        "filtered_data['Text'] = filtered_data['Text'].apply(lambda sentence : remove_tags(sentence))\n",
        "print(\"After removing HTML tags: \")\n",
        "print(filtered_data['Text'].loc[filtered_data['UserId'] == 'A3FONPR03H3PJS'].values)"
      ],
      "execution_count": 11,
      "outputs": [
        {
          "output_type": "stream",
          "name": "stdout",
          "text": [
            "Before removing HTML tags: \n",
            "['product received is as advertised.<br /><br /><a href=\"http://www.amazon.com/gp/product/b001gvisjm\">twizzlers, strawberry, 16-ounce bags (pack of 6)</a>'\n",
            " 'best price for wasa crispbread, multi grain, 9.7-ounce boxes (pack of 12)is to order through amazon.com \"subscribe & save items\"'\n",
            " 'product received is as advertised.  <a href=\"http://www.amazon.com/gp/product/b002edemly\">red vines red original licorice twists, 64-ounce tub</a>']\n",
            "\n",
            "After removing HTML tags: \n",
            "['product received is as advertised.twizzlers, strawberry, 16-ounce bags (pack of 6)'\n",
            " 'best price for wasa crispbread, multi grain, 9.7-ounce boxes (pack of 12)is to order through amazon.com \"subscribe & save items\"'\n",
            " 'product received is as advertised.  red vines red original licorice twists, 64-ounce tub']\n"
          ]
        }
      ]
    },
    {
      "cell_type": "markdown",
      "metadata": {
        "id": "1dTUu6OhD390"
      },
      "source": [
        "### **1.5 Contractions**"
      ]
    },
    {
      "cell_type": "code",
      "metadata": {
        "id": "sv9skeCUyZ7a",
        "colab": {
          "base_uri": "https://localhost:8080/"
        },
        "outputId": "3865cec4-87ce-40f0-93c6-8a8d6f6c0730"
      },
      "source": [
        "contractions_dict = {\n",
        "\"ain't\": \"is not\",\n",
        "\"aren't\": \"are not\",\n",
        "\"can't\": \"cannot\",\n",
        "\"can't've\": \"cannot have\",\n",
        "\"'cause\": \"because\",\n",
        "\"could've\": \"could have\",\n",
        "\"couldn't\": \"could not\",\n",
        "\"couldn't've\": \"could not have\",\n",
        "\"didn't\": \"did not\",\n",
        "\"doesn't\": \"does not\",\n",
        "\"don't\": \"do not\",\n",
        "\"hadn't\": \"had not\",\n",
        "\"hadn't've\": \"had not have\",\n",
        "\"hasn't\": \"has not\",\n",
        "\"haven't\": \"have not\",\n",
        "\"he'd\": \"he would\",\n",
        "\"he'd've\": \"he would have\",\n",
        "\"he'll\": \"he will\",\n",
        "\"he'll've\": \"he he will have\",\n",
        "\"he's\": \"he is\",\n",
        "\"how'd\": \"how did\",\n",
        "\"how'd'y\": \"how do you\",\n",
        "\"how'll\": \"how will\",\n",
        "\"how's\": \"how is\",\n",
        "\"I'd\": \"I would\",\n",
        "\"I'd've\": \"I would have\",\n",
        "\"I'll\": \"I will\",\n",
        "\"I'll've\": \"I will have\",\n",
        "\"I'm\": \"I am\",\n",
        "\"I've\": \"I have\",\n",
        "\"i'd\": \"i would\",\n",
        "\"i'd've\": \"i would have\",\n",
        "\"i'll\": \"i will\",\n",
        "\"i'll've\": \"i will have\",\n",
        "\"i'm\": \"i am\",\n",
        "\"i've\": \"i have\",\n",
        "\"isn't\": \"is not\",\n",
        "\"it'd\": \"it would\",\n",
        "\"it'd've\": \"it would have\",\n",
        "\"it'll\": \"it will\",\n",
        "\"it'll've\": \"it will have\",\n",
        "\"it's\": \"it is\",\n",
        "\"let's\": \"let us\",\n",
        "\"ma'am\": \"madam\",\n",
        "\"mayn't\": \"may not\",\n",
        "\"might've\": \"might have\",\n",
        "\"mightn't\": \"might not\",\n",
        "\"mightn't've\": \"might not have\",\n",
        "\"must've\": \"must have\",\n",
        "\"mustn't\": \"must not\",\n",
        "\"mustn't've\": \"must not have\",\n",
        "\"needn't\": \"need not\",\n",
        "\"needn't've\": \"need not have\",\n",
        "\"o'clock\": \"of the clock\",\n",
        "\"oughtn't\": \"ought not\",\n",
        "\"oughtn't've\": \"ought not have\",\n",
        "\"shan't\": \"shall not\",\n",
        "\"sha'n't\": \"shall not\",\n",
        "\"shan't've\": \"shall not have\",\n",
        "\"she'd\": \"she would\",\n",
        "\"she'd've\": \"she would have\",\n",
        "\"she'll\": \"she will\",\n",
        "\"she'll've\": \"she will have\",\n",
        "\"she's\": \"she is\",\n",
        "\"should've\": \"should have\",\n",
        "\"shouldn't\": \"should not\",\n",
        "\"shouldn't've\": \"should not have\",\n",
        "\"so've\": \"so have\",\n",
        "\"so's\": \"so as\",\n",
        "\"that'd\": \"that would\",\n",
        "\"that'd've\": \"that would have\",\n",
        "\"that's\": \"that is\",\n",
        "\"there'd\": \"there would\",\n",
        "\"there'd've\": \"there would have\",\n",
        "\"there's\": \"there is\",\n",
        "\"they'd\": \"they would\",\n",
        "\"they'd've\": \"they would have\",\n",
        "\"they'll\": \"they will\",\n",
        "\"they'll've\": \"they will have\",\n",
        "\"they're\": \"they are\",\n",
        "\"they've\": \"they have\",\n",
        "\"to've\": \"to have\",\n",
        "\"wasn't\": \"was not\",\n",
        "\"we'd\": \"we would\",\n",
        "\"we'd've\": \"we would have\",\n",
        "\"we'll\": \"we will\",\n",
        "\"we'll've\": \"we will have\",\n",
        "\"we're\": \"we are\",\n",
        "\"we've\": \"we have\",\n",
        "\"weren't\": \"were not\",\n",
        "\"what'll\": \"what will\",\n",
        "\"what'll've\": \"what will have\",\n",
        "\"what're\": \"what are\",\n",
        "\"what's\": \"what is\",\n",
        "\"what've\": \"what have\",\n",
        "\"when's\": \"when is\",\n",
        "\"when've\": \"when have\",\n",
        "\"where'd\": \"where did\",\n",
        "\"where's\": \"where is\",\n",
        "\"where've\": \"where have\",\n",
        "\"who'll\": \"who will\",\n",
        "\"who'll've\": \"who will have\",\n",
        "\"who's\": \"who is\",\n",
        "\"who've\": \"who have\",\n",
        "\"why's\": \"why is\",\n",
        "\"why've\": \"why have\",\n",
        "\"will've\": \"will have\",\n",
        "\"won't\": \"will not\",\n",
        "\"won't've\": \"will not have\",\n",
        "\"would've\": \"would have\",\n",
        "\"wouldn't\": \"would not\",\n",
        "\"wouldn't've\": \"would not have\",\n",
        "\"y'all\": \"you all\",\n",
        "\"y'all'd\": \"you all would\",\n",
        "\"y'all'd've\": \"you all would have\",\n",
        "\"y'all're\": \"you all are\",\n",
        "\"y'all've\": \"you all have\",\n",
        "\"you'd\": \"you would\",\n",
        "\"you'd've\": \"you would have\",\n",
        "\"you'll\": \"you will\",\n",
        "\"you'll've\": \"you will have\",\n",
        "\"you're\": \"you are\",\n",
        "\"you've\": \"you have\"\n",
        "}\n",
        "\n",
        "\n",
        "print(\"Before expanding: \")\n",
        "print(filtered_data['Text'].loc[filtered_data['UserId'] == 'A3HDKO7OW0QNK4'].values)\n",
        "contractions_re = re.compile('(%s)' % '|'.join(contractions_dict.keys()))\n",
        "def expand_contractions(text, contractions_dict = contractions_dict):\n",
        "    def replace(match):\n",
        "        return contractions_dict[match.group(0)]\n",
        "    return contractions_re.sub(replace, text)\n",
        "filtered_data['Text'] = filtered_data['Text'].apply(lambda x:expand_contractions(x))\n",
        "\n",
        "print()\n",
        "print(\"After expanding: \")\n",
        "print(filtered_data['Text'].loc[filtered_data['UserId'] == 'A3HDKO7OW0QNK4'].values)\n",
        "\n",
        "# removing punctuations\n",
        "filtered_data['Text'] = filtered_data['Text'].apply(lambda x: re.sub('[%s]' % re.escape(string.punctuation), '' , x))"
      ],
      "execution_count": 12,
      "outputs": [
        {
          "output_type": "stream",
          "name": "stdout",
          "text": [
            "Before expanding: \n",
            "[\"i don't know if it's the cactus or the tequila or just the unique combination of ingredients, but the flavour of this hot sauce makes it one of a kind!  we picked up a bottle once on a trip we were on and brought it back home with us and were totally blown away!  when we realized that we simply couldn't find it anywhere in our city we were bummed.now, because of the magic of the internet, we have a case of the sauce and are ecstatic because of it.if you love hot sauce..i mean really love hot sauce, but don't want a sauce that tastelessly burns your throat, grab a bottle of tequila picante gourmet de inclan.  just realize that once you taste it, you will never want to use any other sauce.thank you for the personal, incredible service!\"\n",
            " \"just as with the original tequila picante gourmet de inclan hot sauce, this salsa has a unique, addictive flavour.  we've been a salsa family for two decades but have never tasted any salsa at home which has the rounded, authentic flavour that this salsa has.  is it the cactus?  (an ingredient that we never see here in canada)  or the tequila?  or a combination with cilantro and spices?  i don't even want to know.  i just want to know that these products will always be available.if you are trying to decide if you should give this salsa a whirl...don't hesitate.  it's simply the best salsa we've ever tasted.  i'm sure you'll agree.\"]\n",
            "\n",
            "After expanding: \n",
            "['i do not know if it is the cactus or the tequila or just the unique combination of ingredients, but the flavour of this hot sauce makes it one of a kind!  we picked up a bottle once on a trip we were on and brought it back home with us and were totally blown away!  when we realized that we simply could not find it anywhere in our city we were bummed.now, because of the magic of the internet, we have a case of the sauce and are ecstatic because of it.if you love hot sauce..i mean really love hot sauce, but do not want a sauce that tastelessly burns your throat, grab a bottle of tequila picante gourmet de inclan.  just realize that once you taste it, you will never want to use any other sauce.thank you for the personal, incredible service!'\n",
            " 'just as with the original tequila picante gourmet de inclan hot sauce, this salsa has a unique, addictive flavour.  we have been a salsa family for two decades but have never tasted any salsa at home which has the rounded, authentic flavour that this salsa has.  is it the cactus?  (an ingredient that we never see here in canada)  or the tequila?  or a combination with cilantro and spices?  i do not even want to know.  i just want to know that these products will always be available.if you are trying to decide if you should give this salsa a whirl...do not hesitate.  it is simply the best salsa we have ever tasted.  i am sure you will agree.']\n"
          ]
        }
      ]
    },
    {
      "cell_type": "markdown",
      "metadata": {
        "id": "6g-ByUucD7Go"
      },
      "source": [
        "### **1.6 Stop words**"
      ]
    },
    {
      "cell_type": "code",
      "metadata": {
        "id": "fdiFO8iwA_WK",
        "colab": {
          "base_uri": "https://localhost:8080/"
        },
        "outputId": "84dc10ba-d5e0-44ee-e6a0-df8f72da63f9"
      },
      "source": [
        "print(\"Before removing stop words: \")\n",
        "print(filtered_data['Text'].loc[filtered_data['UserId'] == 'AR5J8UI46CURR'].values)\n",
        "from nltk.corpus import stopwords\n",
        "stop_words = set(stopwords.words('english'))\n",
        "stop_words.add('subject')\n",
        "stop_words.add('http')\n",
        "def remove_stopwords(text):\n",
        "    return \" \".join([word for word in str(text).split() if word not in stop_words])\n",
        "\n",
        "filtered_data['Text'] = filtered_data['Text'].apply(lambda x: remove_stopwords(x))\n",
        "print()\n",
        "print(\"After removing stop words: \")\n",
        "print(filtered_data['Text'].loc[filtered_data['UserId'] == 'AR5J8UI46CURR'].values)"
      ],
      "execution_count": 13,
      "outputs": [
        {
          "output_type": "stream",
          "name": "stdout",
          "text": [
            "Before removing stop words: \n",
            "['delicious wafers i find that european wafers are less sweet  less sugar and carbohydrates but very delectable']\n",
            "\n",
            "After removing stop words: \n",
            "['delicious wafers find european wafers less sweet less sugar carbohydrates delectable']\n"
          ]
        }
      ]
    },
    {
      "cell_type": "markdown",
      "metadata": {
        "id": "StrxdnjBD9iH"
      },
      "source": [
        "### **1.7 Non alphabetic characters**"
      ]
    },
    {
      "cell_type": "code",
      "metadata": {
        "id": "Kdo8_HYvEKQ2"
      },
      "source": [
        "def remove_non_alphabetic(text):\n",
        "    return \" \".join([word for word in str(text).split() if word.isalpha()])\n",
        "\n",
        "filtered_data['Text'] = filtered_data['Text'].apply(lambda x: remove_non_alphabetic(x))"
      ],
      "execution_count": 14,
      "outputs": []
    },
    {
      "cell_type": "markdown",
      "metadata": {
        "id": "ec7C6QgiECER"
      },
      "source": [
        "### **1.8 Lemmatization**"
      ]
    },
    {
      "cell_type": "code",
      "metadata": {
        "id": "wqOzIEx8K98l",
        "colab": {
          "base_uri": "https://localhost:8080/"
        },
        "outputId": "4fd5857d-0f10-4feb-b0b0-4b114bb96fa1"
      },
      "source": [
        "print(\"Before lemmatization: \")\n",
        "print(filtered_data['Text'].loc[filtered_data['UserId'] == 'A21BT40VZCCYT4'].values)\n",
        "\n",
        "lemmatizer = WordNetLemmatizer()\n",
        "def lemmatize_words(text):\n",
        "    return \" \".join([lemmatizer.lemmatize(word) for word in text.split()])\n",
        "filtered_data['Text'] = filtered_data['Text'].apply(lambda x: lemmatize_words(x))\n",
        "print()\n",
        "print(\"After lemmatization: \")\n",
        "print(filtered_data['Text'].loc[filtered_data['UserId'] == 'A21BT40VZCCYT4'].values)"
      ],
      "execution_count": 15,
      "outputs": [
        {
          "output_type": "stream",
          "name": "stdout",
          "text": [
            "Before lemmatization: \n",
            "['healthy dog food good digestion also good small puppies dog eats required amount every feeding'\n",
            " 'dog come outside training look cupboard waiting treat use clicker training method comes knows something special']\n",
            "\n",
            "After lemmatization: \n",
            "['healthy dog food good digestion also good small puppy dog eats required amount every feeding'\n",
            " 'dog come outside training look cupboard waiting treat use clicker training method come know something special']\n"
          ]
        }
      ]
    },
    {
      "cell_type": "markdown",
      "metadata": {
        "id": "dqD1sWNSEGXh"
      },
      "source": [
        "### **1.9 Test - Train split and Vectorization**"
      ]
    },
    {
      "cell_type": "code",
      "metadata": {
        "id": "bpuVSvIZX4bX"
      },
      "source": [
        "x = filtered_data['Text']\n",
        "y = filtered_data['Class']\n",
        "\n",
        "x_train, x_test, y_train, y_test = train_test_split(x, y, test_size = 0.2, random_state = 42)\n",
        "x_train_lstm = x_train\n",
        "x_test_lstm = x_test\n",
        "count_vector = CountVectorizer(lowercase = \"true\")\n",
        "x_train = count_vector.fit_transform(x_train)\n",
        "x_test = count_vector.transform(x_test)"
      ],
      "execution_count": 16,
      "outputs": []
    },
    {
      "cell_type": "code",
      "metadata": {
        "colab": {
          "base_uri": "https://localhost:8080/",
          "height": 248
        },
        "id": "hSdx22uYMmpf",
        "outputId": "bb0e43c1-fc6d-4941-ea96-7dfec765fcc4"
      },
      "source": [
        "dist = y_train.value_counts()\n",
        "fig, ax = plt.subplots(figsize=(5,3), dpi = 80)\n",
        "ax.set_title('Train data distribution')\n",
        "sns.barplot(dist.keys(), dist.values);"
      ],
      "execution_count": 17,
      "outputs": [
        {
          "output_type": "display_data",
          "data": {
            "image/png": "[encoded data removed]",
            "text/plain": [
              "<Figure size 400x240 with 1 Axes>"
            ]
          },
          "metadata": {
            "needs_background": "light"
          }
        }
      ]
    },
    {
      "cell_type": "code",
      "metadata": {
        "colab": {
          "base_uri": "https://localhost:8080/",
          "height": 248
        },
        "id": "NdrP_tf_56Bd",
        "outputId": "0074abb2-f38b-42cf-af3f-66e728ae8bc5"
      },
      "source": [
        "dist = y_test.value_counts()\n",
        "fig, ax = plt.subplots(figsize=(5,3), dpi=80)\n",
        "ax.set_title('Test data distribution')\n",
        "sns.barplot(dist.keys(), dist.values);\n",
        "\n",
        "accuracy_dict = {}\n",
        "f1_dict = {}\n"
      ],
      "execution_count": 18,
      "outputs": [
        {
          "output_type": "display_data",
          "data": {
            "image/png": "[encoded data removed]",
            "text/plain": [
              "<Figure size 400x240 with 1 Axes>"
            ]
          },
          "metadata": {
            "needs_background": "light"
          }
        }
      ]
    },
    {
      "cell_type": "markdown",
      "metadata": {
        "id": "C6IFrlTldPgZ"
      },
      "source": [
        "# **2. Models**"
      ]
    },
    {
      "cell_type": "markdown",
      "metadata": {
        "id": "4WK9FakKDScP"
      },
      "source": [
        "### **2.1 Naive Bayes**"
      ]
    },
    {
      "cell_type": "code",
      "metadata": {
        "id": "Jh-k3VKpGzv9"
      },
      "source": [
        "#10 fold cross validation for naive bayes\n",
        "def find_alpha(X_train, y_train):\n",
        "    alpha_values = np.arange(1, 5, 0.5)\n",
        "    cv_scores = []\n",
        "    for alpha in alpha_values:\n",
        "        mnb = MultinomialNB(alpha = alpha)\n",
        "        scores = cross_val_score(mnb, X_train, y_train, cv = 10, scoring = 'accuracy')\n",
        "        cv_scores.append(scores.mean())\n",
        "    MSE = [1 - x for x in cv_scores]\n",
        "    optimal_alpha = alpha_values[MSE.index(min(MSE))]\n",
        "    plt.plot(alpha_values, MSE, marker = '*') \n",
        "    plt.title(\"Misclassification Error vs alpha\")\n",
        "    plt.xlabel('value of alpha')\n",
        "    plt.ylabel('Misclassification Error')\n",
        "    plt.show()\n",
        "    return optimal_alpha"
      ],
      "execution_count": 19,
      "outputs": []
    },
    {
      "cell_type": "code",
      "metadata": {
        "id": "lREYigutqNrJ",
        "colab": {
          "base_uri": "https://localhost:8080/",
          "height": 329
        },
        "outputId": "49cc55ad-5845-44f3-afe6-885a68e485f0"
      },
      "source": [
        "#Naive bayes\n",
        "start_time = time.time()\n",
        "alpha_optimal = find_alpha(x_train, y_train)\n",
        "print(\"Optimal value of alpha is: \", alpha_optimal)\n",
        "naive_bayes =  MultinomialNB(alpha = alpha_optimal)\n",
        "naive_bayes.fit(x_train, y_train)\n",
        "y_pred_naive_bayes = naive_bayes.predict(x_test)\n",
        "print(\"---Runtime: %s seconds ---\" % (time.time() - start_time))"
      ],
      "execution_count": 20,
      "outputs": [
        {
          "output_type": "display_data",
          "data": {
            "image/png": "[encoded data removed]",
            "text/plain": [
              "<Figure size 432x288 with 1 Axes>"
            ]
          },
          "metadata": {
            "needs_background": "light"
          }
        },
        {
          "output_type": "stream",
          "name": "stdout",
          "text": [
            "Optimal value of alpha is:  1.0\n",
            "---Runtime: 276.04744267463684 seconds ---\n"
          ]
        }
      ]
    },
    {
      "cell_type": "code",
      "metadata": {
        "id": "UKwt5cg07HfG"
      },
      "source": [
        "def print_metrics(y_test, y_pred, name):\n",
        "  acc = accuracy_score(y_test, y_pred)\n",
        "  accuracy_dict[name] = round(acc*100, 2)\n",
        "  print(\"Accuracy:\", acc)\n",
        "  print(\"Precision for positive:\",precision_score(y_test, y_pred, pos_label = \"Positive\"))\n",
        "  print(\"Precision for negative:\",precision_score(y_test, y_pred, pos_label = \"Negative\"))\n",
        "  print(\"Recall for positive:\",recall_score(y_test, y_pred, pos_label = \"Positive\"))\n",
        "  print(\"Recall for negative:\",recall_score(y_test, y_pred, pos_label = \"Negative\"))\n",
        "  f1score = f1_score(y_test, y_pred, average='weighted')\n",
        "  f1_dict[name] = round(f1score*100, 2)\n",
        "  print(\"F1 Score::\", f1score)"
      ],
      "execution_count": 21,
      "outputs": []
    },
    {
      "cell_type": "code",
      "metadata": {
        "colab": {
          "base_uri": "https://localhost:8080/"
        },
        "id": "HdNzJErs9OEv",
        "outputId": "7de8635e-bf02-4b71-ea03-5e2f66a65f17"
      },
      "source": [
        "print_metrics(y_test, y_pred_naive_bayes, \"Naive Bayes\")"
      ],
      "execution_count": 22,
      "outputs": [
        {
          "output_type": "stream",
          "name": "stdout",
          "text": [
            "Accuracy: 0.9083407702340908\n",
            "Precision for positive: 0.9238455222840147\n",
            "Precision for negative: 0.7874909442163729\n",
            "Recall for positive: 0.9713341042721957\n",
            "Recall for negative: 0.5702045812204931\n",
            "F1 Score:: 0.90215455107965\n"
          ]
        }
      ]
    },
    {
      "cell_type": "code",
      "metadata": {
        "id": "KPv0XQLS1krE"
      },
      "source": [
        "def print_confusion_matrix(y_test, y_predicted):\n",
        "  cnf_matrix = confusion_matrix(y_test, y_predicted)\n",
        "  class_names=['Negative','Positive']\n",
        "  fig, ax = plt.subplots()\n",
        "  tick_marks = np.arange(len(class_names))\n",
        "  plt.xticks(tick_marks, class_names)\n",
        "  plt.yticks(tick_marks, class_names)\n",
        "  # create heatmap\n",
        "  sns.heatmap(pd.DataFrame(cnf_matrix), annot=True, cmap=\"YlGnBu\" ,fmt='g')\n",
        "  ax.xaxis.set_label_position(\"bottom\")\n",
        "  plt.tight_layout()\n",
        "  plt.title('Confusion matrix')\n",
        "  plt.ylabel('Actual label')\n",
        "  plt.xlabel('Predicted label')"
      ],
      "execution_count": 23,
      "outputs": []
    },
    {
      "cell_type": "code",
      "metadata": {
        "id": "n83E-UsxCaNX",
        "colab": {
          "base_uri": "https://localhost:8080/",
          "height": 327
        },
        "outputId": "b654a564-ec07-4217-ebe2-ffdc8d5dbf12"
      },
      "source": [
        "print_confusion_matrix(y_test, y_pred_naive_bayes)"
      ],
      "execution_count": 24,
      "outputs": [
        {
          "output_type": "display_data",
          "data": {
            "image/png": "[encoded data removed]",
            "text/plain": [
              "<Figure size 432x288 with 2 Axes>"
            ]
          },
          "metadata": {
            "needs_background": "light"
          }
        }
      ]
    },
    {
      "cell_type": "markdown",
      "metadata": {
        "id": "DfdaiTW2DHet"
      },
      "source": [
        "### **2.2 Logistic Regression**"
      ]
    },
    {
      "cell_type": "code",
      "metadata": {
        "id": "TxXFGV3JemKl",
        "colab": {
          "base_uri": "https://localhost:8080/"
        },
        "outputId": "2682d9dc-b482-4f74-e5ca-032ba8e29eb4"
      },
      "source": [
        "#Logistic regression\n",
        "start_time = time.time()\n",
        "lr = LogisticRegression(solver='lbfgs',max_iter=1000)\n",
        "lr.fit(x_train, y_train)\n",
        "y_pred_log_regression = lr.predict(x_test)\n",
        "print(\"---Runtime: %s seconds ---\" % (time.time() - start_time))"
      ],
      "execution_count": 25,
      "outputs": [
        {
          "output_type": "stream",
          "name": "stdout",
          "text": [
            "---Runtime: 120.76229429244995 seconds ---\n"
          ]
        }
      ]
    },
    {
      "cell_type": "code",
      "metadata": {
        "id": "NipwICQeEk7y",
        "colab": {
          "base_uri": "https://localhost:8080/"
        },
        "outputId": "be32f318-568e-4a73-d75d-73a65d001aa6"
      },
      "source": [
        "print_metrics(y_test, y_pred_log_regression, \"Logistic Regression\")"
      ],
      "execution_count": 26,
      "outputs": [
        {
          "output_type": "stream",
          "name": "stdout",
          "text": [
            "Accuracy: 0.9235395071051006\n",
            "Precision for positive: 0.9410491388844999\n",
            "Precision for negative: 0.8074384494499738\n",
            "Recall for positive: 0.9700636838933498\n",
            "Recall for negative: 0.6738066095471236\n",
            "F1 Score:: 0.920670943637487\n"
          ]
        }
      ]
    },
    {
      "cell_type": "code",
      "metadata": {
        "colab": {
          "base_uri": "https://localhost:8080/",
          "height": 327
        },
        "id": "A5VLeB28jvMO",
        "outputId": "2db1681c-01da-45d5-8d21-39063b12d2ca"
      },
      "source": [
        "print_confusion_matrix(y_test, y_pred_log_regression)"
      ],
      "execution_count": 27,
      "outputs": [
        {
          "output_type": "display_data",
          "data": {
            "image/png": "[encoded data removed]",
            "text/plain": [
              "<Figure size 432x288 with 2 Axes>"
            ]
          },
          "metadata": {
            "needs_background": "light"
          }
        }
      ]
    },
    {
      "cell_type": "markdown",
      "metadata": {
        "id": "zOuOYg8eNPpx"
      },
      "source": [
        "### **2.3 XgBoost**"
      ]
    },
    {
      "cell_type": "code",
      "metadata": {
        "id": "HjhFn-Q1oERX",
        "colab": {
          "base_uri": "https://localhost:8080/"
        },
        "outputId": "e804f314-28e5-4054-d128-344aae7e1573"
      },
      "source": [
        "#training the model\n",
        "start_time = time.time()\n",
        "xgb = XGBClassifier(random_state = 22,learning_rate = 0.7)\n",
        "xgb.fit(x_train, y_train)\n",
        "\n",
        "#predicting the labels for test data\n",
        "y_pred_xgb = xgb.predict(x_test)\n",
        "print(\"---Runtime: %s seconds ---\" % (time.time() - start_time))"
      ],
      "execution_count": 28,
      "outputs": [
        {
          "output_type": "stream",
          "name": "stdout",
          "text": [
            "---Runtime: 90.08836364746094 seconds ---\n"
          ]
        }
      ]
    },
    {
      "cell_type": "code",
      "metadata": {
        "colab": {
          "base_uri": "https://localhost:8080/"
        },
        "id": "QkCSQNMX5qsh",
        "outputId": "68543a14-b432-45e5-b8d0-ebbcb8f62279"
      },
      "source": [
        "print_metrics(y_test, y_pred_xgb, \"XgBoost\")"
      ],
      "execution_count": 29,
      "outputs": [
        {
          "output_type": "stream",
          "name": "stdout",
          "text": [
            "Accuracy: 0.905402622365621\n",
            "Precision for positive: 0.9157475630405931\n",
            "Precision for negative: 0.8122768470200494\n",
            "Recall for positive: 0.9777350684886884\n",
            "Recall for negative: 0.5171358629130967\n",
            "F1 Score:: 0.8964503404637667\n"
          ]
        }
      ]
    },
    {
      "cell_type": "code",
      "metadata": {
        "colab": {
          "base_uri": "https://localhost:8080/",
          "height": 323
        },
        "id": "iiQRYjxAoLbd",
        "outputId": "5966089a-30c6-433a-d0c2-f12b4e68c084"
      },
      "source": [
        "print_confusion_matrix(y_test, y_pred_xgb)"
      ],
      "execution_count": 30,
      "outputs": [
        {
          "output_type": "display_data",
          "data": {
            "image/png": "[encoded data removed]",
            "text/plain": [
              "<Figure size 432x288 with 2 Axes>"
            ]
          },
          "metadata": {
            "needs_background": "light"
          }
        }
      ]
    },
    {
      "cell_type": "markdown",
      "metadata": {
        "id": "qZ_wy3Ka38k3"
      },
      "source": [
        "### **2.4 LSTM**"
      ]
    },
    {
      "cell_type": "code",
      "metadata": {
        "id": "2GPmvDXyFmv4"
      },
      "source": [
        "train_db, test_db = train_test_split(filtered_data, test_size = 0.2, random_state = 42)\n",
        "tokenizer = Tokenizer(num_words=6500)\n",
        "tokenizer.fit_on_texts(train_db['Text'])\n",
        "sequences_train = tokenizer.texts_to_sequences(train_db['Text'])\n",
        "\n",
        "X_train = pad_sequences(sequences_train, maxlen=140)\n",
        "Y_train = train_db['Sentiment']"
      ],
      "execution_count": 31,
      "outputs": []
    },
    {
      "cell_type": "code",
      "metadata": {
        "colab": {
          "base_uri": "https://localhost:8080/"
        },
        "id": "qHh9JTs5WHol",
        "outputId": "ca510a8f-1a94-4c28-e577-5d6ef8c4940f"
      },
      "source": [
        "model = Sequential()\n",
        "model.add(Embedding(6501, 32, input_length=140))\n",
        "model.add(LSTM(100))\n",
        "model.add(Dense(1, activation='sigmoid'))\n",
        "model.compile(loss='binary_crossentropy', optimizer='adam', metrics=['accuracy'])\n",
        "model.summary()"
      ],
      "execution_count": 32,
      "outputs": [
        {
          "output_type": "stream",
          "name": "stdout",
          "text": [
            "Model: \"sequential\"\n",
            "_________________________________________________________________\n",
            " Layer (type)                Output Shape              Param #   \n",
            "=================================================================\n",
            " embedding (Embedding)       (None, 140, 32)           208032    \n",
            "                                                                 \n",
            " lstm (LSTM)                 (None, 100)               53200     \n",
            "                                                                 \n",
            " dense (Dense)               (None, 1)                 101       \n",
            "                                                                 \n",
            "=================================================================\n",
            "Total params: 261,333\n",
            "Trainable params: 261,333\n",
            "Non-trainable params: 0\n",
            "_________________________________________________________________\n"
          ]
        }
      ]
    },
    {
      "cell_type": "code",
      "metadata": {
        "colab": {
          "base_uri": "https://localhost:8080/"
        },
        "id": "EH02wlp0WMFS",
        "outputId": "a0517164-c3b4-4b43-a79f-06fced9e26de"
      },
      "source": [
        "start_time = time.time()\n",
        "model.fit(X_train,Y_train, epochs=3, batch_size=64, validation_split=0.2)\n",
        "print(\"---Runtime: %s seconds ---\" % (time.time() - start_time))"
      ],
      "execution_count": 33,
      "outputs": [
        {
          "output_type": "stream",
          "name": "stdout",
          "text": [
            "Epoch 1/3\n",
            "3642/3642 [==============================] - 722s 197ms/step - loss: 0.2123 - accuracy: 0.9164 - val_loss: 0.1932 - val_accuracy: 0.9244\n",
            "Epoch 2/3\n",
            "3642/3642 [==============================] - 700s 192ms/step - loss: 0.1746 - accuracy: 0.9313 - val_loss: 0.1851 - val_accuracy: 0.9277\n",
            "Epoch 3/3\n",
            "3642/3642 [==============================] - 693s 190ms/step - loss: 0.1570 - accuracy: 0.9385 - val_loss: 0.1803 - val_accuracy: 0.9282\n",
            "---Runtime: 2124.5963747501373 seconds ---\n"
          ]
        }
      ]
    },
    {
      "cell_type": "code",
      "metadata": {
        "id": "veHSSessy43h"
      },
      "source": [
        "list_tokenized_test = tokenizer.texts_to_sequences(test_db['Text'])\n",
        "X_test = pad_sequences(list_tokenized_test, maxlen=140)\n",
        "y_test = test_db['Sentiment']\n",
        "prediction = model.predict(X_test)\n",
        "y_pred_lstm = (prediction > 0.5)"
      ],
      "execution_count": 34,
      "outputs": []
    },
    {
      "cell_type": "code",
      "metadata": {
        "colab": {
          "base_uri": "https://localhost:8080/"
        },
        "id": "e7eHO6V4Ih1_",
        "outputId": "5abd2594-8a31-4487-ae9e-cb2ec1845ada"
      },
      "source": [
        "acc = accuracy_score(y_test, y_pred_lstm)\n",
        "print(\"Accuracy:\",acc)\n",
        "accuracy_dict[\"LSTM\"] = round(acc*100, 2)\n",
        "print(\"Precision for positive:\",precision_score(y_test, y_pred_lstm, pos_label = 1))\n",
        "print(\"Precision for negative:\",precision_score(y_test, y_pred_lstm, pos_label = 0))\n",
        "print(\"Recall for positive:\",recall_score(y_test, y_pred_lstm, pos_label = 1))\n",
        "print(\"Recall for negative:\",recall_score(y_test, y_pred_lstm, pos_label = 0))\n",
        "f1score = f1_score(y_test, y_pred_lstm, average='weighted')\n",
        "f1_dict[\"LSTM\"] = round(f1score*100, 2)\n",
        "print(\"F1 Score::\", f1score)"
      ],
      "execution_count": 35,
      "outputs": [
        {
          "output_type": "stream",
          "name": "stdout",
          "text": [
            "Accuracy: 0.9289215349763164\n",
            "Precision for positive: 0.9494867120790559\n",
            "Precision for negative: 0.8040205885209284\n",
            "Recall for positive: 0.9671319445575517\n",
            "Recall for negative: 0.7238153523343241\n",
            "F1 Score:: 0.9273830581132583\n"
          ]
        }
      ]
    },
    {
      "cell_type": "code",
      "metadata": {
        "colab": {
          "base_uri": "https://localhost:8080/",
          "height": 327
        },
        "id": "w-s73RfW3I4a",
        "outputId": "463fa2d1-4cd2-45d4-fc1b-76ba3569b157"
      },
      "source": [
        "print_confusion_matrix(y_test, y_pred_lstm)"
      ],
      "execution_count": 36,
      "outputs": [
        {
          "output_type": "display_data",
          "data": {
            "image/png": "[encoded data removed]",
            "text/plain": [
              "<Figure size 432x288 with 2 Axes>"
            ]
          },
          "metadata": {
            "needs_background": "light"
          }
        }
      ]
    },
    {
      "cell_type": "code",
      "metadata": {
        "id": "mu8r3n4MKaKd"
      },
      "source": [
        "def plot_metrcis(acc, metric):\n",
        "  models = list(acc.keys())\n",
        "  accuracy = list(acc.values())\n",
        "    \n",
        "  fig = plt.figure(figsize = (8, 5))\n",
        "  \n",
        "  # creating the bar plot\n",
        "  plt.bar(models, accuracy[0:100], color=(0.2, 0.4, 0.6, 0.6), width = 0.4)\n",
        "  \n",
        "  plt.xlabel(\"Models\")\n",
        "  plt.ylabel(metric)\n",
        "  plt.title(metric + \" of different models\")\n",
        "  for i, v in enumerate(accuracy):\n",
        "      plt.text(i - 0.10, v + 0.50, str(v))"
      ],
      "execution_count": 37,
      "outputs": []
    },
    {
      "cell_type": "code",
      "metadata": {
        "colab": {
          "base_uri": "https://localhost:8080/",
          "height": 350
        },
        "id": "9SnUuC3RMiIn",
        "outputId": "1a0b0ec0-9617-4abe-9193-55ec7db27631"
      },
      "source": [
        "plot_metrcis(accuracy_dict, \"Accuracy\")"
      ],
      "execution_count": 38,
      "outputs": [
        {
          "output_type": "display_data",
          "data": {
            "image/png": "[encoded data removed]",
            "text/plain": [
              "<Figure size 576x360 with 1 Axes>"
            ]
          },
          "metadata": {
            "needs_background": "light"
          }
        }
      ]
    }
  ]
}